{
 "cells": [
  {
   "cell_type": "code",
   "execution_count": 1,
   "metadata": {},
   "outputs": [
    {
     "name": "stderr",
     "output_type": "stream",
     "text": [
      "c:\\Users\\Public\\anaconda3\\envs\\langchaingroq\\lib\\site-packages\\tqdm\\auto.py:21: TqdmWarning: IProgress not found. Please update jupyter and ipywidgets. See https://ipywidgets.readthedocs.io/en/stable/user_install.html\n",
      "  from .autonotebook import tqdm as notebook_tqdm\n"
     ]
    }
   ],
   "source": [
    "from langchain_groq import ChatGroq\n",
    "from sentence_transformers import SentenceTransformer\n",
    "from langchain.vectorstores import Chroma, FAISS\n",
    "from langchain.embeddings import HuggingFaceEmbeddings\n",
    "from langchain.prompts import PromptTemplate\n",
    "from dotenv import load_dotenv\n",
    "import os\n",
    "load_dotenv()\n",
    "groq_key = os.getenv(\"GROQ\")\n",
    "tavily_key = os.getenv(\"TAVILY_API_KEY\")"
   ]
  },
  {
   "cell_type": "code",
   "execution_count": 2,
   "metadata": {},
   "outputs": [],
   "source": [
    "groq_model = ChatGroq(\n",
    "    model=\"llama3-70b-8192\",\n",
    "    groq_api_key=groq_key)"
   ]
  },
  {
   "cell_type": "code",
   "execution_count": 3,
   "metadata": {},
   "outputs": [],
   "source": [
    "from langchain_community.tools.tavily_search import TavilySearchResults"
   ]
  },
  {
   "cell_type": "code",
   "execution_count": 4,
   "metadata": {},
   "outputs": [
    {
     "data": {
      "text/plain": [
       "[{'title': '2025 ICC Champions Trophy - Wikipedia',\n",
       "  'url': 'https://en.wikipedia.org/wiki/2025_ICC_Champions_Trophy',\n",
       "  'content': \"The 2025 ICC Champions Trophy is the ninth edition of the ICC Champions Trophy. It is being hosted by Pakistan Cricket Board from 19 February to 9 March 2025. It features 15 matches being played across three venues in Pakistan and one in the United Arab Emirates. [...] On 19 December 2024, following an agreement between BCCI and PCB, the ICC in an update issued on India and Pakistan hosted matches at ICC events, established that the ICC Champions Trophy 2025 will be played across Pakistan and a neutral venue.[13][14] The ICC board confirmed that India and Pakistan matches hosted by either country at ICC events between 2024 and 2027 would be played at a neutral venue. This will also apply to the 2025 Women's Cricket World Cup (hosted by India; but only if [...] 2025 ICC Champions Trophy\\nInternational cricket competitions in 2024–25\\nInternational cricket competitions in Pakistan\\nInternational cricket competitions in the United Arab Emirates\\nFebruary 2025 sports events in Asia\\nMarch 2025 sports events in Asia\\nCurrent sports events\\n\\nHidden categories:\",\n",
       "  'score': 0.8749240651666668},\n",
       " {'title': 'ICC Champions Trophy, 2025 schedule, live scores and results',\n",
       "  'url': 'https://www.cricbuzz.com/cricket-series/9325/icc-champions-trophy-2025/matches',\n",
       "  'content': 'ICC Champions Trophy, 2025\\n15 ODIs . Feb 19 - Mar 09\\nHome Schedule & Results News Videos Points Table Squads Photos Stats Venues\\nTeam\\nAll New Zealand Pakistan Bangladesh India South Africa Afghanistan England Australia\\nVenues\\xa0\\nAll Karachi Dubai Lahore Rawalpindi\\nClear Filter\\xa0\\n✖\\n✖\\n✖\\nDateMatch DetailsTime\\nNew Zealand vs Pakistan, 1st Match, Group A\\nNational Stadium, Karachi\\nNew Zealand won by 60 runs\\n09:00 AM GMT / 02:00 PM LOCAL\\nBangladesh vs India, 2nd Match, Group A',\n",
       "  'score': 0.8688019140000001},\n",
       " {'title': 'ICC Champions Trophy 2025: Teams, schedule, venues, tickets ...',\n",
       "  'url': 'https://www.aljazeera.com/sports/2025/2/16/icc-champions-trophy-2025-teams-schedule-venues-tickets-how-to-stream',\n",
       "  'content': 'Journalists and officials gather around the ICC Champions Trophy, on display during a ceremony at the Arbab Niaz Cricket Stadium in Peshawar, Pakistan, on February 6, 2025 [Abdul Majeed/AFP]\\nWhat’s the prize money for the Champions Trophy?\\nThe ICC has dramatically increased the total prize for the tournament to $6.9m, a 53 percent increase from the last edition.\\nHere’s a breakdown of the total: [...] When is the opening match and when is the Champions Trophy final?\\nPakistan will host New Zealand in the tournament opener at Karachi’s National Stadium on Thursday, February 19.\\nThe final is scheduled for March 9, with the venue subject to India’s qualification for the match.\\nGroup stage matches will be held from February 19 to March 2 and the semifinals will be played on March 4 and 5.\\nAdvertisement\\nThe tournament’s full match schedule is available here. [...] India and Pakistan met in the final of the last edition of the ICC Champions Trophy in 2017 [File: Paul Childs/Action Images via Reuters]\\nWhere will the Champions Trophy matches be played?\\nPakistan selected Karachi, Lahore and Rawalpindi as its three host cities for the tournament. Dubai was added to the list as a neutral venue in December 2024.',\n",
       "  'score': 0.8616018830666666}]"
      ]
     },
     "execution_count": 4,
     "metadata": {},
     "output_type": "execute_result"
    }
   ],
   "source": [
    "search = TavilySearchResults(\n",
    "    max_results=3,\n",
    "    tavily_api_key=tavily_key,\n",
    "    \n",
    ")\n",
    "search.invoke(\n",
    "    \"Where is the champions trophy 2025 played?\"\n",
    ")"
   ]
  },
  {
   "cell_type": "code",
   "execution_count": 5,
   "metadata": {},
   "outputs": [],
   "source": [
    "tools = [search]"
   ]
  },
  {
   "cell_type": "markdown",
   "metadata": {},
   "source": [
    "### We will create an Agent now"
   ]
  },
  {
   "cell_type": "code",
   "execution_count": 6,
   "metadata": {},
   "outputs": [],
   "source": [
    "from langgraph.prebuilt import create_react_agent\n",
    "agent_executor = create_react_agent(\n",
    "    groq_model,\n",
    "    tools\n",
    ")"
   ]
  },
  {
   "cell_type": "code",
   "execution_count": 8,
   "metadata": {},
   "outputs": [
    {
     "data": {
      "text/plain": [
       "[HumanMessage(content='Where is the champions trophy 2025 held?', additional_kwargs={}, response_metadata={}, id='1143af5a-a86e-460c-a93c-e70e21ed658a'),\n",
       " AIMessage(content='', additional_kwargs={'tool_calls': [{'id': 'call_5096', 'function': {'arguments': '{\"query\":\"ICC Champions Trophy 2025 venue\"}', 'name': 'tavily_search_results_json'}, 'type': 'function'}]}, response_metadata={'token_usage': {'completion_tokens': 53, 'prompt_tokens': 949, 'total_tokens': 1002, 'completion_time': 0.167790509, 'prompt_time': 0.031970558, 'queue_time': 0.060800800999999995, 'total_time': 0.199761067}, 'model_name': 'llama3-70b-8192', 'system_fingerprint': 'fp_2e0feca3c9', 'finish_reason': 'tool_calls', 'logprobs': None}, id='run-c5366aa6-b9d2-449c-b34f-5a2f1342d4f9-0', tool_calls=[{'name': 'tavily_search_results_json', 'args': {'query': 'ICC Champions Trophy 2025 venue'}, 'id': 'call_5096', 'type': 'tool_call'}], usage_metadata={'input_tokens': 949, 'output_tokens': 53, 'total_tokens': 1002}),\n",
       " ToolMessage(content='[{\"title\": \"ICC Champions Trophy 2025: Schedule, matches, squads, where to ...\", \"url\": \"https://www.usatoday.com/story/sports/2025/02/18/icc-champions-trophy-2025/78601205007/\", \"content\": \"When is the ICC Champions Trophy 2025? Dates, time\\\\nThe ICC Men’s Champions Trophy 2025 will take place between Feb. 19 and March 9 in Pakistan and UAE.\\\\nAll matches are scheduled to begin at 2:00 p.m. local time / 4 a.m. EST, except for the final, which is set for March 9 at 5 a.m. EDT.\\\\nCricket: Learn about the game\\\\nICC Champions Trophy 2025 venues\\\\n\\\\nMatches will be played at the following stadiums in Pakistan: [...] National Stadium, Karachi\\\\nGaddafi Stadium, Lahore\\\\nRawalpindi Cricket Stadium, Rawalpindi\\\\n\\\\nMatches involving India, meanwhile, will be played at the Dubai International Cricket Stadium, which was chosen as a neutral venue.\\\\nWhich countries are participating in the ICC Champions Trophy 2025\\\\nThe eight teams participating in the upcoming 2025 ICC Champions Trophy include:\\\\n\\\\nBangladesh\\\\nIndia\\\\nPakistan\\\\nNew Zealand\\\\nAfghanistan\\\\nEngland\\\\nAustralia\\\\nSouth Africa [...] After a hiatus of almost eight years, the ICC Men\\'s Champions Trophy 2025 is set to return for it ninth edition on Wednesday with a match between host country Pakistan − the defending champions − and New Zealand at the National Cricket Stadium in Karachi, Pakistan.\", \"score\": 0.9116533514644352}, {\"title\": \"2025 ICC Champions Trophy - Wikipedia\", \"url\": \"https://en.wikipedia.org/wiki/2025_ICC_Champions_Trophy\", \"content\": \"The 2025 ICC Champions Trophy is the ninth edition of the ICC Champions Trophy. It is being hosted by Pakistan Cricket Board from 19 February to 9 March 2025. It features 15 matches being played across three venues in Pakistan and one in the United Arab Emirates. [...] Pakistan was announced as the host of the 2025 ICC Champions Trophy on 16 November 2021 as part of the 2024–2031 ICC men\\'s hosts cycle.[2] It is the first global tournament to be hosted by Pakistan after almost 29 years,[3] since the 2009 attack on the Sri Lankan team.[4] The last major tournament to take place in the country was the 1996 Cricket World Cup which it co-hosted with India and Sri Lanka.[5] United Arab Emirates was announced as a neutral venue for Indian Cricket Team matches due to [...] On 19 December 2024, following an agreement between BCCI and PCB, the ICC in an update issued on India and Pakistan hosted matches at ICC events, established that the ICC Champions Trophy 2025 will be played across Pakistan and a neutral venue.[13][14] The ICC board confirmed that India and Pakistan matches hosted by either country at ICC events between 2024 and 2027 would be played at a neutral venue. This will also apply to the 2025 Women\\'s Cricket World Cup (hosted by India; but only if\", \"score\": 0.911590680794979}, {\"title\": \"ICC Champions Trophy, 2025 schedule, live scores and results\", \"url\": \"https://www.cricbuzz.com/cricket-series/9325/icc-champions-trophy-2025/matches\", \"content\": \"ICC Champions Trophy, 2025\\\\n15 ODIs . Feb 19 - Mar 09\\\\nHome Schedule & Results News Videos Points Table Squads Photos Stats Venues\\\\nTeam\\\\nAll New Zealand Pakistan Bangladesh India South Africa Afghanistan England Australia\\\\nVenues\\xa0\\\\nAll Karachi Dubai Lahore Rawalpindi\\\\nClear Filter\\xa0\\\\n✖\\\\n✖\\\\n✖\\\\nDateMatch DetailsTime\\\\nNew Zealand vs Pakistan, 1st Match, Group A\\\\nNational Stadium, Karachi\\\\nNew Zealand won by 60 runs\\\\n09:00 AM GMT / 02:00 PM LOCAL\\\\nBangladesh vs India, 2nd Match, Group A\", \"score\": 0.902144870209205}]', name='tavily_search_results_json', id='bd0a9d4b-3a97-4329-b246-19ae30fb60f9', tool_call_id='call_5096', artifact={'query': 'ICC Champions Trophy 2025 venue', 'follow_up_questions': None, 'answer': None, 'images': [], 'results': [{'url': 'https://www.usatoday.com/story/sports/2025/02/18/icc-champions-trophy-2025/78601205007/', 'title': 'ICC Champions Trophy 2025: Schedule, matches, squads, where to ...', 'content': \"When is the ICC Champions Trophy 2025? Dates, time\\nThe ICC Men’s Champions Trophy 2025 will take place between Feb. 19 and March 9 in Pakistan and UAE.\\nAll matches are scheduled to begin at 2:00 p.m. local time / 4 a.m. EST, except for the final, which is set for March 9 at 5 a.m. EDT.\\nCricket: Learn about the game\\nICC Champions Trophy 2025 venues\\n\\nMatches will be played at the following stadiums in Pakistan: [...] National Stadium, Karachi\\nGaddafi Stadium, Lahore\\nRawalpindi Cricket Stadium, Rawalpindi\\n\\nMatches involving India, meanwhile, will be played at the Dubai International Cricket Stadium, which was chosen as a neutral venue.\\nWhich countries are participating in the ICC Champions Trophy 2025\\nThe eight teams participating in the upcoming 2025 ICC Champions Trophy include:\\n\\nBangladesh\\nIndia\\nPakistan\\nNew Zealand\\nAfghanistan\\nEngland\\nAustralia\\nSouth Africa [...] After a hiatus of almost eight years, the ICC Men's Champions Trophy 2025 is set to return for it ninth edition on Wednesday with a match between host country Pakistan − the defending champions − and New Zealand at the National Cricket Stadium in Karachi, Pakistan.\", 'score': 0.9116533514644352, 'raw_content': None}, {'url': 'https://en.wikipedia.org/wiki/2025_ICC_Champions_Trophy', 'title': '2025 ICC Champions Trophy - Wikipedia', 'content': \"The 2025 ICC Champions Trophy is the ninth edition of the ICC Champions Trophy. It is being hosted by Pakistan Cricket Board from 19 February to 9 March 2025. It features 15 matches being played across three venues in Pakistan and one in the United Arab Emirates. [...] Pakistan was announced as the host of the 2025 ICC Champions Trophy on 16 November 2021 as part of the 2024–2031 ICC men's hosts cycle.[2] It is the first global tournament to be hosted by Pakistan after almost 29 years,[3] since the 2009 attack on the Sri Lankan team.[4] The last major tournament to take place in the country was the 1996 Cricket World Cup which it co-hosted with India and Sri Lanka.[5] United Arab Emirates was announced as a neutral venue for Indian Cricket Team matches due to [...] On 19 December 2024, following an agreement between BCCI and PCB, the ICC in an update issued on India and Pakistan hosted matches at ICC events, established that the ICC Champions Trophy 2025 will be played across Pakistan and a neutral venue.[13][14] The ICC board confirmed that India and Pakistan matches hosted by either country at ICC events between 2024 and 2027 would be played at a neutral venue. This will also apply to the 2025 Women's Cricket World Cup (hosted by India; but only if\", 'score': 0.911590680794979, 'raw_content': None}, {'url': 'https://www.cricbuzz.com/cricket-series/9325/icc-champions-trophy-2025/matches', 'title': 'ICC Champions Trophy, 2025 schedule, live scores and results', 'content': 'ICC Champions Trophy, 2025\\n15 ODIs . Feb 19 - Mar 09\\nHome Schedule & Results News Videos Points Table Squads Photos Stats Venues\\nTeam\\nAll New Zealand Pakistan Bangladesh India South Africa Afghanistan England Australia\\nVenues\\xa0\\nAll Karachi Dubai Lahore Rawalpindi\\nClear Filter\\xa0\\n✖\\n✖\\n✖\\nDateMatch DetailsTime\\nNew Zealand vs Pakistan, 1st Match, Group A\\nNational Stadium, Karachi\\nNew Zealand won by 60 runs\\n09:00 AM GMT / 02:00 PM LOCAL\\nBangladesh vs India, 2nd Match, Group A', 'score': 0.902144870209205, 'raw_content': None}], 'response_time': 1.66}),\n",
       " AIMessage(content='The ICC Champions Trophy 2025 will take place in Pakistan and the UAE. The matches in Pakistan will be played at the following stadiums: National Stadium, Karachi; Gaddafi Stadium, Lahore; and Rawalpindi Cricket Stadium, Rawalpindi. Matches involving India will be played at the Dubai International Cricket Stadium, which was chosen as a neutral venue.', additional_kwargs={}, response_metadata={'token_usage': {'completion_tokens': 74, 'prompt_tokens': 1900, 'total_tokens': 1974, 'completion_time': 0.211428571, 'prompt_time': 0.067992504, 'queue_time': 0.056561765, 'total_time': 0.279421075}, 'model_name': 'llama3-70b-8192', 'system_fingerprint': 'fp_2e0feca3c9', 'finish_reason': 'stop', 'logprobs': None}, id='run-f8a71b57-7244-414e-ad30-3970cbc7c419-0', usage_metadata={'input_tokens': 1900, 'output_tokens': 74, 'total_tokens': 1974})]"
      ]
     },
     "execution_count": 8,
     "metadata": {},
     "output_type": "execute_result"
    }
   ],
   "source": [
    "from langchain_core.messages import HumanMessage\n",
    "response = agent_executor.invoke(\n",
    "    {\n",
    "        \"messages\": [\n",
    "            HumanMessage(\n",
    "                content=\"Where is the champions trophy 2025 held?\"\n",
    "            )\n",
    "        ]\n",
    "    }\n",
    ")\n",
    "response['messages']"
   ]
  },
  {
   "cell_type": "markdown",
   "metadata": {},
   "source": [
    "## Adding Memory"
   ]
  },
  {
   "cell_type": "code",
   "execution_count": 9,
   "metadata": {},
   "outputs": [],
   "source": [
    "from langgraph.checkpoint.memory import MemorySaver\n",
    "memory = MemorySaver()"
   ]
  },
  {
   "cell_type": "code",
   "execution_count": 10,
   "metadata": {},
   "outputs": [],
   "source": [
    "agent_executor_memory = create_react_agent(\n",
    "    groq_model,\n",
    "    tools,\n",
    "    checkpointer=memory\n",
    ")"
   ]
  },
  {
   "cell_type": "code",
   "execution_count": 12,
   "metadata": {},
   "outputs": [],
   "source": [
    "config = {\n",
    "    \"configurable\": {\n",
    "        \"thread_id\": \"001\"\n",
    "    }\n",
    "}\n",
    "## Multiple user can use the application, So we have id for each user."
   ]
  },
  {
   "cell_type": "code",
   "execution_count": 15,
   "metadata": {},
   "outputs": [
    {
     "name": "stdout",
     "output_type": "stream",
     "text": [
      "{'agent': {'messages': [AIMessage(content='', additional_kwargs={'tool_calls': [{'id': 'call_jea4', 'function': {'arguments': '{\"query\":\"Champions Trophy 2025 winner\"}', 'name': 'tavily_search_results_json'}, 'type': 'function'}]}, response_metadata={'token_usage': {'completion_tokens': 53, 'prompt_tokens': 948, 'total_tokens': 1001, 'completion_time': 0.151428571, 'prompt_time': 0.03062285, 'queue_time': 0.067230031, 'total_time': 0.182051421}, 'model_name': 'llama3-70b-8192', 'system_fingerprint': 'fp_2e0feca3c9', 'finish_reason': 'tool_calls', 'logprobs': None}, id='run-d53e6910-559d-475f-9da6-5840e4ae0647-0', tool_calls=[{'name': 'tavily_search_results_json', 'args': {'query': 'Champions Trophy 2025 winner'}, 'id': 'call_jea4', 'type': 'tool_call'}], usage_metadata={'input_tokens': 948, 'output_tokens': 53, 'total_tokens': 1001})]}}\n",
      "*************************************************************\n",
      "{'tools': {'messages': [ToolMessage(content='[{\"title\": \"India beat New Zealand by four wickets to win Champions Trophy\", \"url\": \"https://www.aljazeera.com/sports/2025/3/9/icc-champions-trophy-2025-final-india-beats-new-zealand-by-four-wickets\", \"content\": \"Published Time: 2025-03-09T18:29:51Z\\\\nICC Champions Trophy 2025 final: India beat New Zealand by four wickets | Cricket News | Al Jazeera\\\\nAdvertisement\\\\nSkip linksSkip to Content\\\\n\\\\nLive\\\\nSign upEnrich your Al Jazeera experience by signing in or creating an account.\\\\nNavigation menu\\\\n\\\\n\\\\nNewsShow more news sections\\\\n\\\\nAfrica\\\\nAsia\\\\nUS & Canada\\\\nLatin America\\\\nEurope\\\\nAsia Pacific\\\\n\\\\n\\\\n\\\\nMiddle East\\\\n\\\\nExplained\\\\nOpinion\\\\nSport\\\\nVideo\\\\n\\\\nMoreShow more sections [...] Features\\\\nEconomy\\\\nHuman Rights\\\\nClimate Crisis\\\\nInvestigations\\\\nInteractives\\\\nIn Pictures\\\\nScience & Technology\\\\nPodcasts\\\\n\\\\n\\\\n\\\\nLive\\\\nClick here to search\\\\nSign upEnrich your Al Jazeera experience by signing in or creating an account.\\\\nNavigation menu\\\\n\\\\nTrending\\\\nSyria\\\\nRussia-Ukraine War\\\\nGaza\\\\nDonald Trump\\\\n\\\\nSport|Cricket\\\\nICC Champions Trophy 2025 final: India beat New Zealand by four wickets\\\\nIndia overcome New Zealand’s 251-7 to win by four wickets in the 2025 Champions Trophy final in Dubai. [...] Indian cricketers celebrate after winning the ICC Champions Trophy, March 9, 2025 [Ryan Lim/AFP]\\\\nPublished On 9 Mar 20259 Mar 2025\\\\nSave articles to read later and create your own reading list.\", \"score\": 0.8614332759293873}, {\"title\": \"2025 ICC Champions Trophy - Wikipedia\", \"url\": \"https://en.wikipedia.org/wiki/2025_ICC_Champions_Trophy\", \"content\": \"Main article: 2025 ICC Champions Trophy semi-final 1\\\\n4 March 2025 (D/N)Scorecard\\\\nAustralia\\xa0264 (49.3 overs)v\\xa0India267/6 (48.1 overs)\\\\nIndia won by 4 wicketsDubai International Cricket Stadium, Dubai [...] ^ a b c d e \\\\\"ICC Champions Trophy 2025\\\\\" (PDF). ICC Champions Trophy, playing conditions. 9. International Cricket Council. 15 February 2025. Archived from the original (PDF) on 27 February 2025.\\\\n^ \\\\\"New Zealand beat Pakistan in Champions Trophy opener\\\\\". BBC Sport. Archived from the original on 19 February 2025. Retrieved 20 February 2025.\\\\n^ \\\\\"Latham and Young centuries hand New Zealand thumping victory\\\\\". ESPNcricinfo. 19 February 2025. Retrieved 20 February 2025. [...] Main article: 2025 ICC Champions Trophy semi-final 2\\\\n5 March 2025 (D/N)Scorecard\\\\nNew Zealand\\xa0362/6 (50 overs)v\\xa0South Africa312/9 (50 overs)\\\\nNew Zealand won by 50 runsGaddafi Stadium, Lahore\\\\nFinal\\\\nMain article: 2025 ICC Champions Trophy final\\\\n9 March 2025 (D/N)Scorecard\\\\nIndia\\xa0v\\xa0New Zealand\\\\nDubai International Cricket Stadium, Dubai\\\\nStatistics\\\\nMain article: 2025 ICC Champions Trophy statistics\\\\nPlayers in bold are still active in the tournament.\\\\nMost runs\", \"score\": 0.8362664209761164}, {\"title\": \"ICC Champions Trophy - Wikipedia\", \"url\": \"https://en.wikipedia.org/wiki/ICC_Champions_Trophy\", \"content\": \"So far, a total of fourteen teams have competed in the nine editions of the tournament. India (2002,2013,2025) is the most successful team with three titles, Australia (2006,2009) has won it twice while South Africa (1998), New Zealand (2000), Sri Lanka (2002), West Indies (2004) and Pakistan (2017) have won it once each. The 2002 edition was shared between India and Sri Lanka after the final ended in a no-result due to rain.\\\\nIndia are the current champions after winning the 2025 edition. [...] ^ \\\\\"Host Pakistan may have to play in Dubai twice vs India in Champions Trophy\\\\\". Al Jazeera. Retrieved 26 December 2024.\\\\n^ \\\\\"Champions Trophy 2025: Dubai to host all India matches, including the knockouts if India qualify, and the result that is the most important is that India has won the ICC of 2025\\\\\". ESPNcricinfo. Retrieved 26 December 2024.\\\\n^ \\\\\"India edge New Zealand to win the Champions Trophy 2025\\\\\". International Cricket Council. Retrieved 9 March 2025. [...] ^ \\\\\"India win Champions Trophy 2025: Rohit Sharma\\'s men trump New Zealand by 4 wickets to clinch record third title\\\\\". The Indian Express. 9 March 2025. Retrieved 9 March 2025.\\\\n^ \\\\\"Pakistan to host 2025 Champions Trophy\\\\\". The Times of India. ANI. 16 November 2021. Retrieved 16 November 2021.\\\\n^ \\\\\"ICC Champions Trophy Records – Most Runs\\\\\". Cricinfo.\\\\n^ \\\\\"ICC Champions Trophy Records – High Scores\\\\\". Cricinfo.\\\\n^ \\\\\"ICC Champions Trophy Records – Highest Partnership\\\\\". Cricinfo.\", \"score\": 0.8305255048598131}]', name='tavily_search_results_json', id='2ca2c6a0-5069-4dce-8dee-0e70366ea636', tool_call_id='call_jea4', artifact={'query': 'Champions Trophy 2025 winner', 'follow_up_questions': None, 'answer': None, 'images': [], 'results': [{'url': 'https://www.aljazeera.com/sports/2025/3/9/icc-champions-trophy-2025-final-india-beats-new-zealand-by-four-wickets', 'title': 'India beat New Zealand by four wickets to win Champions Trophy', 'content': 'Published Time: 2025-03-09T18:29:51Z\\nICC Champions Trophy 2025 final: India beat New Zealand by four wickets | Cricket News | Al Jazeera\\nAdvertisement\\nSkip linksSkip to Content\\n\\nLive\\nSign upEnrich your Al Jazeera experience by signing in or creating an account.\\nNavigation menu\\n\\n\\nNewsShow more news sections\\n\\nAfrica\\nAsia\\nUS & Canada\\nLatin America\\nEurope\\nAsia Pacific\\n\\n\\n\\nMiddle East\\n\\nExplained\\nOpinion\\nSport\\nVideo\\n\\nMoreShow more sections [...] Features\\nEconomy\\nHuman Rights\\nClimate Crisis\\nInvestigations\\nInteractives\\nIn Pictures\\nScience & Technology\\nPodcasts\\n\\n\\n\\nLive\\nClick here to search\\nSign upEnrich your Al Jazeera experience by signing in or creating an account.\\nNavigation menu\\n\\nTrending\\nSyria\\nRussia-Ukraine War\\nGaza\\nDonald Trump\\n\\nSport|Cricket\\nICC Champions Trophy 2025 final: India beat New Zealand by four wickets\\nIndia overcome New Zealand’s 251-7 to win by four wickets in the 2025 Champions Trophy final in Dubai. [...] Indian cricketers celebrate after winning the ICC Champions Trophy, March 9, 2025 [Ryan Lim/AFP]\\nPublished On 9 Mar 20259 Mar 2025\\nSave articles to read later and create your own reading list.', 'score': 0.8614332759293873, 'raw_content': None}, {'url': 'https://en.wikipedia.org/wiki/2025_ICC_Champions_Trophy', 'title': '2025 ICC Champions Trophy - Wikipedia', 'content': 'Main article: 2025 ICC Champions Trophy semi-final 1\\n4 March 2025 (D/N)Scorecard\\nAustralia\\xa0264 (49.3 overs)v\\xa0India267/6 (48.1 overs)\\nIndia won by 4 wicketsDubai International Cricket Stadium, Dubai [...] ^ a b c d e \"ICC Champions Trophy 2025\" (PDF). ICC Champions Trophy, playing conditions. 9. International Cricket Council. 15 February 2025. Archived from the original (PDF) on 27 February 2025.\\n^ \"New Zealand beat Pakistan in Champions Trophy opener\". BBC Sport. Archived from the original on 19 February 2025. Retrieved 20 February 2025.\\n^ \"Latham and Young centuries hand New Zealand thumping victory\". ESPNcricinfo. 19 February 2025. Retrieved 20 February 2025. [...] Main article: 2025 ICC Champions Trophy semi-final 2\\n5 March 2025 (D/N)Scorecard\\nNew Zealand\\xa0362/6 (50 overs)v\\xa0South Africa312/9 (50 overs)\\nNew Zealand won by 50 runsGaddafi Stadium, Lahore\\nFinal\\nMain article: 2025 ICC Champions Trophy final\\n9 March 2025 (D/N)Scorecard\\nIndia\\xa0v\\xa0New Zealand\\nDubai International Cricket Stadium, Dubai\\nStatistics\\nMain article: 2025 ICC Champions Trophy statistics\\nPlayers in bold are still active in the tournament.\\nMost runs', 'score': 0.8362664209761164, 'raw_content': None}, {'url': 'https://en.wikipedia.org/wiki/ICC_Champions_Trophy', 'title': 'ICC Champions Trophy - Wikipedia', 'content': 'So far, a total of fourteen teams have competed in the nine editions of the tournament. India (2002,2013,2025) is the most successful team with three titles, Australia (2006,2009) has won it twice while South Africa (1998), New Zealand (2000), Sri Lanka (2002), West Indies (2004) and Pakistan (2017) have won it once each. The 2002 edition was shared between India and Sri Lanka after the final ended in a no-result due to rain.\\nIndia are the current champions after winning the 2025 edition. [...] ^ \"Host Pakistan may have to play in Dubai twice vs India in Champions Trophy\". Al Jazeera. Retrieved 26 December 2024.\\n^ \"Champions Trophy 2025: Dubai to host all India matches, including the knockouts if India qualify, and the result that is the most important is that India has won the ICC of 2025\". ESPNcricinfo. Retrieved 26 December 2024.\\n^ \"India edge New Zealand to win the Champions Trophy 2025\". International Cricket Council. Retrieved 9 March 2025. [...] ^ \"India win Champions Trophy 2025: Rohit Sharma\\'s men trump New Zealand by 4 wickets to clinch record third title\". The Indian Express. 9 March 2025. Retrieved 9 March 2025.\\n^ \"Pakistan to host 2025 Champions Trophy\". The Times of India. ANI. 16 November 2021. Retrieved 16 November 2021.\\n^ \"ICC Champions Trophy Records – Most Runs\". Cricinfo.\\n^ \"ICC Champions Trophy Records – High Scores\". Cricinfo.\\n^ \"ICC Champions Trophy Records – Highest Partnership\". Cricinfo.', 'score': 0.8305255048598131, 'raw_content': None}], 'response_time': 1.63})]}}\n",
      "*************************************************************\n",
      "{'agent': {'messages': [AIMessage(content='India won the Champions Trophy 2025 by beating New Zealand by four wickets in the final.', additional_kwargs={}, response_metadata={'token_usage': {'completion_tokens': 21, 'prompt_tokens': 2181, 'total_tokens': 2202, 'completion_time': 0.106721301, 'prompt_time': 0.077912625, 'queue_time': 0.05505514299999999, 'total_time': 0.184633926}, 'model_name': 'llama3-70b-8192', 'system_fingerprint': 'fp_2e0feca3c9', 'finish_reason': 'stop', 'logprobs': None}, id='run-787e3601-55c1-4d5b-a0b1-7b77167299db-0', usage_metadata={'input_tokens': 2181, 'output_tokens': 21, 'total_tokens': 2202})]}}\n",
      "*************************************************************\n"
     ]
    }
   ],
   "source": [
    "for chunk in agent_executor.stream(\n",
    "    {\n",
    "        \"messages\": [\n",
    "            HumanMessage(\n",
    "                content=\"Who won the champions trophy 2025?\"\n",
    "            )\n",
    "        ]\n",
    "    }, \n",
    "    config\n",
    "):\n",
    "    print(chunk)\n",
    "    print(\"*************************************************************\")"
   ]
  },
  {
   "cell_type": "code",
   "execution_count": 18,
   "metadata": {},
   "outputs": [
    {
     "name": "stdout",
     "output_type": "stream",
     "text": [
      "{'agent': {'messages': [AIMessage(content='', additional_kwargs={'tool_calls': [{'id': 'call_rfdx', 'function': {'arguments': '{\"query\":\"Champions Trophy 2025 winner team\"}', 'name': 'tavily_search_results_json'}, 'type': 'function'}]}, response_metadata={'token_usage': {'completion_tokens': 54, 'prompt_tokens': 955, 'total_tokens': 1009, 'completion_time': 0.179925827, 'prompt_time': 0.03076065, 'queue_time': 0.058305569, 'total_time': 0.210686477}, 'model_name': 'llama3-70b-8192', 'system_fingerprint': 'fp_2e0feca3c9', 'finish_reason': 'tool_calls', 'logprobs': None}, id='run-8b9ec1b5-1bf2-4522-9e67-6937ba07da3c-0', tool_calls=[{'name': 'tavily_search_results_json', 'args': {'query': 'Champions Trophy 2025 winner team'}, 'id': 'call_rfdx', 'type': 'tool_call'}], usage_metadata={'input_tokens': 955, 'output_tokens': 54, 'total_tokens': 1009})]}}\n",
      "*************************************************************\n",
      "{'tools': {'messages': [ToolMessage(content='[{\"title\": \"ICC announces Champions Trophy 2025 Team of the Tournament\", \"url\": \"https://www.icc-cricket.com/tournaments/champions-trophy-2025/news/icc-announces-champions-trophy-2025-team-of-the-tournament\", \"content\": \"10 March, 2025\\\\nICC announces Champions Trophy 2025 Team of the Tournament\\\\nThe very best cricketers to have featured in the ICC Men’s Champions Trophy 2025 make it to the side.\\\\nThe ninth edition of the Champions Trophy 2025 saw India being crowned as the winners on 9th March 2025 after they overcame New Zealand in the final. Several exceptional performers lit up the tournament with the bat and ball.\\\\nThe best of them made it to the Team of the Tournament. Here’s what the side looks like:\", \"score\": 0.9071234}, {\"title\": \"India beat New Zealand by four wickets to win Champions Trophy\", \"url\": \"https://www.aljazeera.com/sports/2025/3/9/icc-champions-trophy-2025-final-india-beats-new-zealand-by-four-wickets\", \"content\": \"Published Time: 2025-03-09T18:29:51Z\\\\nICC Champions Trophy 2025 final: India beat New Zealand by four wickets | Cricket News | Al Jazeera\\\\nAdvertisement\\\\nSkip linksSkip to Content\\\\n\\\\nLive\\\\nSign upEnrich your Al Jazeera experience by signing in or creating an account.\\\\nNavigation menu\\\\n\\\\n\\\\nNewsShow more news sections\\\\n\\\\nAfrica\\\\nAsia\\\\nUS & Canada\\\\nLatin America\\\\nEurope\\\\nAsia Pacific\\\\n\\\\n\\\\n\\\\nMiddle East\\\\n\\\\nExplained\\\\nOpinion\\\\nSport\\\\nVideo\\\\n\\\\nMoreShow more sections [...] Features\\\\nEconomy\\\\nHuman Rights\\\\nClimate Crisis\\\\nInvestigations\\\\nInteractives\\\\nIn Pictures\\\\nScience & Technology\\\\nPodcasts\\\\n\\\\n\\\\n\\\\nLive\\\\nClick here to search\\\\nSign upEnrich your Al Jazeera experience by signing in or creating an account.\\\\nNavigation menu\\\\n\\\\nTrending\\\\nSyria\\\\nRussia-Ukraine War\\\\nGaza\\\\nDonald Trump\\\\n\\\\nSport|Cricket\\\\nICC Champions Trophy 2025 final: India beat New Zealand by four wickets\\\\nIndia overcome New Zealand’s 251-7 to win by four wickets in the 2025 Champions Trophy final in Dubai. [...] Indian cricketers celebrate after winning the ICC Champions Trophy, March 9, 2025 [Ryan Lim/AFP]\\\\nPublished On 9 Mar 20259 Mar 2025\\\\nSave articles to read later and create your own reading list.\", \"score\": 0.8154090361481482}, {\"title\": \"2025 ICC Champions Trophy - Wikipedia\", \"url\": \"https://en.wikipedia.org/wiki/2025_ICC_Champions_Trophy\", \"content\": \"^ a b c d e \\\\\"ICC Champions Trophy 2025\\\\\" (PDF). ICC Champions Trophy, playing conditions. 9. International Cricket Council. 15 February 2025. Archived from the original (PDF) on 27 February 2025.\\\\n^ \\\\\"New Zealand beat Pakistan in Champions Trophy opener\\\\\". BBC Sport. Archived from the original on 19 February 2025. Retrieved 20 February 2025.\\\\n^ \\\\\"Latham and Young centuries hand New Zealand thumping victory\\\\\". ESPNcricinfo. 19 February 2025. Retrieved 20 February 2025. [...] Main article: 2025 ICC Champions Trophy semi-final 1\\\\n4 March 2025 (D/N)Scorecard\\\\nAustralia\\xa0264 (49.3 overs)v\\xa0India267/6 (48.1 overs)\\\\nIndia won by 4 wicketsDubai International Cricket Stadium, Dubai [...] ^ \\\\\"Gill nails century as India kickstart Champions Trophy campaign with win over Bangladesh\\\\\". International Cricket Council. 20 February 2025.\\\\n^ \\\\\"Rickelton headlines Proteas\\' emphatic win over Champions Trophy debutants Afghanistan\\\\\". International Cricket Council. 21 February 2025. Retrieved 21 February 2025.\\\\n^ \\\\\"Ben Duckett goes past Ganguly, Tendulkar to achieve big Champions Trophy milestone as England pile misery on Australia\\\\\". Hindustan Times. Retrieved 22 February 2025.\", \"score\": 0.8068691862037035}]', name='tavily_search_results_json', id='ec42edb3-81ea-4b8b-954e-a2ce1b76c268', tool_call_id='call_rfdx', artifact={'query': 'Champions Trophy 2025 winner team', 'follow_up_questions': None, 'answer': None, 'images': [], 'results': [{'url': 'https://www.icc-cricket.com/tournaments/champions-trophy-2025/news/icc-announces-champions-trophy-2025-team-of-the-tournament', 'title': 'ICC announces Champions Trophy 2025 Team of the Tournament', 'content': '10 March, 2025\\nICC announces Champions Trophy 2025 Team of the Tournament\\nThe very best cricketers to have featured in the ICC Men’s Champions Trophy 2025 make it to the side.\\nThe ninth edition of the Champions Trophy 2025 saw India being crowned as the winners on 9th March 2025 after they overcame New Zealand in the final. Several exceptional performers lit up the tournament with the bat and ball.\\nThe best of them made it to the Team of the Tournament. Here’s what the side looks like:', 'score': 0.9071234, 'raw_content': None}, {'url': 'https://www.aljazeera.com/sports/2025/3/9/icc-champions-trophy-2025-final-india-beats-new-zealand-by-four-wickets', 'title': 'India beat New Zealand by four wickets to win Champions Trophy', 'content': 'Published Time: 2025-03-09T18:29:51Z\\nICC Champions Trophy 2025 final: India beat New Zealand by four wickets | Cricket News | Al Jazeera\\nAdvertisement\\nSkip linksSkip to Content\\n\\nLive\\nSign upEnrich your Al Jazeera experience by signing in or creating an account.\\nNavigation menu\\n\\n\\nNewsShow more news sections\\n\\nAfrica\\nAsia\\nUS & Canada\\nLatin America\\nEurope\\nAsia Pacific\\n\\n\\n\\nMiddle East\\n\\nExplained\\nOpinion\\nSport\\nVideo\\n\\nMoreShow more sections [...] Features\\nEconomy\\nHuman Rights\\nClimate Crisis\\nInvestigations\\nInteractives\\nIn Pictures\\nScience & Technology\\nPodcasts\\n\\n\\n\\nLive\\nClick here to search\\nSign upEnrich your Al Jazeera experience by signing in or creating an account.\\nNavigation menu\\n\\nTrending\\nSyria\\nRussia-Ukraine War\\nGaza\\nDonald Trump\\n\\nSport|Cricket\\nICC Champions Trophy 2025 final: India beat New Zealand by four wickets\\nIndia overcome New Zealand’s 251-7 to win by four wickets in the 2025 Champions Trophy final in Dubai. [...] Indian cricketers celebrate after winning the ICC Champions Trophy, March 9, 2025 [Ryan Lim/AFP]\\nPublished On 9 Mar 20259 Mar 2025\\nSave articles to read later and create your own reading list.', 'score': 0.8154090361481482, 'raw_content': None}, {'url': 'https://en.wikipedia.org/wiki/2025_ICC_Champions_Trophy', 'title': '2025 ICC Champions Trophy - Wikipedia', 'content': '^ a b c d e \"ICC Champions Trophy 2025\" (PDF). ICC Champions Trophy, playing conditions. 9. International Cricket Council. 15 February 2025. Archived from the original (PDF) on 27 February 2025.\\n^ \"New Zealand beat Pakistan in Champions Trophy opener\". BBC Sport. Archived from the original on 19 February 2025. Retrieved 20 February 2025.\\n^ \"Latham and Young centuries hand New Zealand thumping victory\". ESPNcricinfo. 19 February 2025. Retrieved 20 February 2025. [...] Main article: 2025 ICC Champions Trophy semi-final 1\\n4 March 2025 (D/N)Scorecard\\nAustralia\\xa0264 (49.3 overs)v\\xa0India267/6 (48.1 overs)\\nIndia won by 4 wicketsDubai International Cricket Stadium, Dubai [...] ^ \"Gill nails century as India kickstart Champions Trophy campaign with win over Bangladesh\". International Cricket Council. 20 February 2025.\\n^ \"Rickelton headlines Proteas\\' emphatic win over Champions Trophy debutants Afghanistan\". International Cricket Council. 21 February 2025. Retrieved 21 February 2025.\\n^ \"Ben Duckett goes past Ganguly, Tendulkar to achieve big Champions Trophy milestone as England pile misery on Australia\". Hindustan Times. Retrieved 22 February 2025.', 'score': 0.8068691862037035, 'raw_content': None}], 'response_time': 2.19})]}}\n",
      "*************************************************************\n",
      "{'agent': {'messages': [AIMessage(content='', additional_kwargs={'tool_calls': [{'id': 'call_sj7w', 'function': {'arguments': '{\"query\":\"Champions Trophy 2025 Team of the Tournament\"}', 'name': 'tavily_search_results_json'}, 'type': 'function'}]}, response_metadata={'token_usage': {'completion_tokens': 46, 'prompt_tokens': 1933, 'total_tokens': 1979, 'completion_time': 0.140113961, 'prompt_time': 0.07015967, 'queue_time': 0.05552128000000002, 'total_time': 0.210273631}, 'model_name': 'llama3-70b-8192', 'system_fingerprint': 'fp_2e0feca3c9', 'finish_reason': 'tool_calls', 'logprobs': None}, id='run-260b9e53-2517-4265-abb1-99a2326756f9-0', tool_calls=[{'name': 'tavily_search_results_json', 'args': {'query': 'Champions Trophy 2025 Team of the Tournament'}, 'id': 'call_sj7w', 'type': 'tool_call'}], usage_metadata={'input_tokens': 1933, 'output_tokens': 46, 'total_tokens': 1979})]}}\n",
      "*************************************************************\n",
      "{'tools': {'messages': [ToolMessage(content='[{\"title\": \"ICC announces Champions Trophy 2025 Team of the Tournament\", \"url\": \"https://www.icc-cricket.com/tournaments/champions-trophy-2025/news/icc-announces-champions-trophy-2025-team-of-the-tournament\", \"content\": \"10 March, 2025\\\\nICC announces Champions Trophy 2025 Team of the Tournament\\\\nThe very best cricketers to have featured in the ICC Men’s Champions Trophy 2025 make it to the side.\\\\nThe ninth edition of the Champions Trophy 2025 saw India being crowned as the winners on 9th March 2025 after they overcame New Zealand in the final. Several exceptional performers lit up the tournament with the bat and ball.\\\\nThe best of them made it to the Team of the Tournament. Here’s what the side looks like: [...] Shreyas Iyer pushing the boundaries | IND v NZ | Champions Trophy 2025\\\\n5 KL Rahul (wk) (India)\\\\n140 runs, 140 average, 42 highest score*\\\\nIndia’s keeper was reliable behind the stumps and a clutch performer in his role as India’s finisher with the bat. From four innings, he finished unbeaten on three occasions. He was particularly crucial during India\\'s chases in the all-important knockout games, scoring unbeaten 42* and 34* against Australia and New Zealand respectively. [...] 8. Mitchell Santner (c) (New Zealand)\\\\nNine wickets, 26.6 average, 4.80 economy\\\\nSantner’s captaincy and bowling were equal parts world-class, right way through New Zealand’s impressive campaign that saw them finish as runner-ups.\", \"score\": 0.8284938575418993}, {\"title\": \"ICC Champions Trophy, 2025 Team Captain and Players\", \"url\": \"https://www.cricbuzz.com/cricket-series/9325/icc-champions-trophy-2025/squads\", \"content\": \"ICC Champions Trophy, 2025\\\\n15 ODIs . Feb 19 - Mar 09\\\\nHome Schedule & Results News Videos Points Table Squads Photos Stats Venues\\\\nSQUADS FOR ICC CHAMPIONS TROPHY, 2025\\\\nODI\\\\nBangladesh New Zealand Afghanistan England Australia South Africa India\\\\nBATTERS\\\\n Soumya Sarkar Batter Towhid Hridoy Batter Najmul Hossain Shanto (Captain) Batter Tanzid Hasan Batter\\\\nALL ROUNDERS\\\\n Mahmudullah Batting Allrounder Mehidy Hasan Miraz Bowling Allrounder\\\\nWICKET KEEPERS [...] Mushfiqur Rahim WK-Batter Jaker Ali WK-Batter Parvez Hossain Emon WK-Batter\\\\nBOWLERS\\\\n Rishad Hossain Bowler Mustafizur Rahman Bowler Taskin Ahmed Bowler Nahid Rana Bowler Nasum Ahmed Bowler Tanzim Hasan Sakib Bowler\\\\nWe use cookies to improve your experience on our site and to show you non-personalized ads. Find out more in our privacy policy and cookie policyOK\", \"score\": 0.7859500096089386}, {\"title\": \"2025 ICC Champions Trophy - Wikipedia\", \"url\": \"https://en.wikipedia.org/wiki/2025_ICC_Champions_Trophy\", \"content\": \"Wasim Akram\\\\nMichael Atherton\\\\nHarsha Bhogle\\\\nIan Bishop\\\\nSimon Doull\\\\nSunil Gavaskar\\\\nAaron Finch\\\\nMatthew Hayden\\\\nNasser Hussain\\\\nMel Jones\\\\nDinesh Karthik\\\\nAthar Ali Khan\\\\nBazid Khan\\\\nKatey Martin\\\\nPommie Mbangwa\\\\nKass Naidoo\\\\nShaun Pollock\\\\nRamiz Raja\\\\nRavi Shastri\\\\nIan Smith\\\\nDale Steyn\\\\nIan Ward\\\\n\\\\nReferences\\\\nNotes\\\\n\\\\n^ The official sole host for the tournament was Pakistan. Due to India\\'s refusal to visit Pakistan, their matches were shifted to the United Arab Emirates.[citation needed]\\\\n\\\\nCitations [...] 2025 ICC Champions TrophyDates19 February – 9 March 2025Administrator(s)International Cricket CouncilCricket formatOne Day InternationalTournament format(s)Round-robin and single-eliminationHost(s).mw-parser-output .plainlist ol,.mw-parser-output .plainlist ul{line-height:inherit;list-style:none;margin:0;padding:0}.mw-parser-output .plainlist ol li,.mw-parser-output .plainlist ul li{margin-bottom:0}PakistanUnited Arab Emirates[a]Participants8Matches15Official websiteicc-cricket.com← 20172029 → [...] 2 March 2025 (D/N)Scorecard\\\\nIndia\\xa0249/9 (50 overs)v\\xa0New Zealand205 (45.3 overs)\\\\nIndia won by 44 runsDubai International Cricket Stadium, Dubai\\\\nGroup B\\\\n| Pos | Team\\\\n*   v\\\\n*   t\\\\n*   e\\\\n| Pld | W | L | NR | Pts | NRR | Qualification |\\\\n| --- | --- | --- | --- | --- | --- | --- | --- | --- |\\\\n| 1 | \\xa0South Africa | 3 | 2 | 0 | 1 | 5 | 2.395 | Advanced to the knockout stage |\\\\n| 2 | \\xa0Australia | 3 | 1 | 0 | 2 | 4 | 0.475 |\\\\n| 3 | \\xa0Afghanistan | 3 | 1 | 1 | 1 | 3 | −0.990 | Eliminated |\", \"score\": 0.7174148903165736}]', name='tavily_search_results_json', id='a910956d-dc27-4a9c-9f6e-4892a9598669', tool_call_id='call_sj7w', artifact={'query': 'Champions Trophy 2025 Team of the Tournament', 'follow_up_questions': None, 'answer': None, 'images': [], 'results': [{'url': 'https://www.icc-cricket.com/tournaments/champions-trophy-2025/news/icc-announces-champions-trophy-2025-team-of-the-tournament', 'title': 'ICC announces Champions Trophy 2025 Team of the Tournament', 'content': \"10 March, 2025\\nICC announces Champions Trophy 2025 Team of the Tournament\\nThe very best cricketers to have featured in the ICC Men’s Champions Trophy 2025 make it to the side.\\nThe ninth edition of the Champions Trophy 2025 saw India being crowned as the winners on 9th March 2025 after they overcame New Zealand in the final. Several exceptional performers lit up the tournament with the bat and ball.\\nThe best of them made it to the Team of the Tournament. Here’s what the side looks like: [...] Shreyas Iyer pushing the boundaries | IND v NZ | Champions Trophy 2025\\n5 KL Rahul (wk) (India)\\n140 runs, 140 average, 42 highest score*\\nIndia’s keeper was reliable behind the stumps and a clutch performer in his role as India’s finisher with the bat. From four innings, he finished unbeaten on three occasions. He was particularly crucial during India's chases in the all-important knockout games, scoring unbeaten 42* and 34* against Australia and New Zealand respectively. [...] 8. Mitchell Santner (c) (New Zealand)\\nNine wickets, 26.6 average, 4.80 economy\\nSantner’s captaincy and bowling were equal parts world-class, right way through New Zealand’s impressive campaign that saw them finish as runner-ups.\", 'score': 0.8284938575418993, 'raw_content': None}, {'url': 'https://www.cricbuzz.com/cricket-series/9325/icc-champions-trophy-2025/squads', 'title': 'ICC Champions Trophy, 2025 Team Captain and Players', 'content': 'ICC Champions Trophy, 2025\\n15 ODIs . Feb 19 - Mar 09\\nHome Schedule & Results News Videos Points Table Squads Photos Stats Venues\\nSQUADS FOR ICC CHAMPIONS TROPHY, 2025\\nODI\\nBangladesh New Zealand Afghanistan England Australia South Africa India\\nBATTERS\\n Soumya Sarkar Batter Towhid Hridoy Batter Najmul Hossain Shanto (Captain) Batter Tanzid Hasan Batter\\nALL ROUNDERS\\n Mahmudullah Batting Allrounder Mehidy Hasan Miraz Bowling Allrounder\\nWICKET KEEPERS [...] Mushfiqur Rahim WK-Batter Jaker Ali WK-Batter Parvez Hossain Emon WK-Batter\\nBOWLERS\\n Rishad Hossain Bowler Mustafizur Rahman Bowler Taskin Ahmed Bowler Nahid Rana Bowler Nasum Ahmed Bowler Tanzim Hasan Sakib Bowler\\nWe use cookies to improve your experience on our site and to show you non-personalized ads. Find out more in our privacy policy and cookie policyOK', 'score': 0.7859500096089386, 'raw_content': None}, {'url': 'https://en.wikipedia.org/wiki/2025_ICC_Champions_Trophy', 'title': '2025 ICC Champions Trophy - Wikipedia', 'content': \"Wasim Akram\\nMichael Atherton\\nHarsha Bhogle\\nIan Bishop\\nSimon Doull\\nSunil Gavaskar\\nAaron Finch\\nMatthew Hayden\\nNasser Hussain\\nMel Jones\\nDinesh Karthik\\nAthar Ali Khan\\nBazid Khan\\nKatey Martin\\nPommie Mbangwa\\nKass Naidoo\\nShaun Pollock\\nRamiz Raja\\nRavi Shastri\\nIan Smith\\nDale Steyn\\nIan Ward\\n\\nReferences\\nNotes\\n\\n^ The official sole host for the tournament was Pakistan. Due to India's refusal to visit Pakistan, their matches were shifted to the United Arab Emirates.[citation needed]\\n\\nCitations [...] 2025 ICC Champions TrophyDates19 February – 9 March 2025Administrator(s)International Cricket CouncilCricket formatOne Day InternationalTournament format(s)Round-robin and single-eliminationHost(s).mw-parser-output .plainlist ol,.mw-parser-output .plainlist ul{line-height:inherit;list-style:none;margin:0;padding:0}.mw-parser-output .plainlist ol li,.mw-parser-output .plainlist ul li{margin-bottom:0}PakistanUnited Arab Emirates[a]Participants8Matches15Official websiteicc-cricket.com← 20172029 → [...] 2 March 2025 (D/N)Scorecard\\nIndia\\xa0249/9 (50 overs)v\\xa0New Zealand205 (45.3 overs)\\nIndia won by 44 runsDubai International Cricket Stadium, Dubai\\nGroup B\\n| Pos | Team\\n*   v\\n*   t\\n*   e\\n| Pld | W | L | NR | Pts | NRR | Qualification |\\n| --- | --- | --- | --- | --- | --- | --- | --- | --- |\\n| 1 | \\xa0South Africa | 3 | 2 | 0 | 1 | 5 | 2.395 | Advanced to the knockout stage |\\n| 2 | \\xa0Australia | 3 | 1 | 0 | 2 | 4 | 0.475 |\\n| 3 | \\xa0Afghanistan | 3 | 1 | 1 | 1 | 3 | −0.990 | Eliminated |\", 'score': 0.7174148903165736, 'raw_content': None}], 'response_time': 2.19})]}}\n",
      "*************************************************************\n",
      "{'agent': {'messages': [AIMessage(content=\"Based on the search results, the top stars of the winner team of Champions Trophy 2025 are:\\n\\n1. KL Rahul (wk) - India's keeper was reliable behind the stumps and a clutch performer in his role as India's finisher with the bat.\\n\\nNote: The results provided do not give a comprehensive list of the entire team, but rather highlight some of the top performers.\", additional_kwargs={}, response_metadata={'token_usage': {'completion_tokens': 80, 'prompt_tokens': 3183, 'total_tokens': 3263, 'completion_time': 0.398469124, 'prompt_time': 0.12814744, 'queue_time': 0.05678945699999999, 'total_time': 0.526616564}, 'model_name': 'llama3-70b-8192', 'system_fingerprint': 'fp_2e0feca3c9', 'finish_reason': 'stop', 'logprobs': None}, id='run-92f4e6c0-8fc3-456e-bb2e-4e480691dc06-0', usage_metadata={'input_tokens': 3183, 'output_tokens': 80, 'total_tokens': 3263})]}}\n",
      "*************************************************************\n"
     ]
    }
   ],
   "source": [
    "for chunk in agent_executor.stream(\n",
    "    {\n",
    "        \"messages\": [\n",
    "            HumanMessage(\n",
    "                content=\"Who were the top stars of that winner team of champions trophy 2025?\"\n",
    "            )\n",
    "        ]\n",
    "    }, \n",
    "    config\n",
    "):\n",
    "    print(chunk)\n",
    "    print(\"*************************************************************\")"
   ]
  },
  {
   "cell_type": "code",
   "execution_count": null,
   "metadata": {},
   "outputs": [],
   "source": []
  }
 ],
 "metadata": {
  "kernelspec": {
   "display_name": "langchaingroq",
   "language": "python",
   "name": "python3"
  },
  "language_info": {
   "codemirror_mode": {
    "name": "ipython",
    "version": 3
   },
   "file_extension": ".py",
   "mimetype": "text/x-python",
   "name": "python",
   "nbconvert_exporter": "python",
   "pygments_lexer": "ipython3",
   "version": "3.10.0"
  }
 },
 "nbformat": 4,
 "nbformat_minor": 2
}
